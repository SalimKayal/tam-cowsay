{
 "cells": [
  {
   "cell_type": "code",
   "execution_count": 1,
   "id": "d4506b1d-8a55-4331-9057-13936476b22d",
   "metadata": {},
   "outputs": [
    {
     "name": "stdout",
     "output_type": "stream",
     "text": [
      " ______________________________________________________________________________ \n",
      "/ 3.10.16 (main, Dec  4 2024, 14:00:23) [GCC 11.4.0]                           \\\n",
      "|                                                                              |\n",
      "| Modules in : [,/layers/paketo-buildpacks_pip-                                |\n",
      "| install/packages/lib/python3.10/site-packages,/layers/paketo-                |\n",
      "| buildpacks_cpython/cpython,/layers/paketo-                                   |\n",
      "| buildpacks_cpython/cpython/lib/python310.zip,/layers/paketo-                 |\n",
      "| buildpacks_cpython/cpython/lib/python3.10,/layers/paketo-                    |\n",
      "| buildpacks_cpython/cpython/lib/python3.10/lib-                               |\n",
      "| dynload,/home/ubuntu/work/.venv/lib/python3.10/site-packages,/layers/paketo- |\n",
      "\\ buildpacks_cpython/cpython/lib/python3.10/site-packages]                     /\n",
      " ------------------------------------------------------------------------------ \n",
      "        \\   ^__^\n",
      "         \\  (oo)\\_______\n",
      "            (__)\\       )\\/\\\n",
      "                ||----w |\n",
      "                ||     ||\n"
     ]
    }
   ],
   "source": [
    "from mycowsay import say_python\n",
    "\n",
    "say_python()"
   ]
  }
 ],
 "metadata": {
  "kernelspec": {
   "display_name": ".venv",
   "language": "python",
   "name": "python3"
  },
  "language_info": {
   "codemirror_mode": {
    "name": "ipython",
    "version": 3
   },
   "file_extension": ".py",
   "mimetype": "text/x-python",
   "name": "python",
   "nbconvert_exporter": "python",
   "pygments_lexer": "ipython3",
   "version": "3.10.16"
  }
 },
 "nbformat": 4,
 "nbformat_minor": 5
}
